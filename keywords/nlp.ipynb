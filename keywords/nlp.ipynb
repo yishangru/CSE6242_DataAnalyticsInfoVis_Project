{
 "cells": [
  {
   "cell_type": "code",
   "execution_count": 85,
   "metadata": {},
   "outputs": [],
   "source": [
    "import json\n",
    "import spacy\n",
    "import pandas as pd\n",
    "import numpy as np\n",
    "import collections"
   ]
  },
  {
   "cell_type": "code",
   "execution_count": 2,
   "metadata": {},
   "outputs": [],
   "source": [
    "# read data file\n",
    "data = []\n",
    "with open('NV_review.json') as f:\n",
    "    for line in f:\n",
    "        data.append(json.loads(line))"
   ]
  },
  {
   "cell_type": "code",
   "execution_count": 50,
   "metadata": {},
   "outputs": [
    {
     "data": {
      "text/plain": [
       "{'review_id': 'kbtscdyz6lvrtGjD1quQTg',\n",
       " 'user_id': 'FIk4lQQu1eTe2EpzQ4xhBA',\n",
       " 'business_id': '8mIrX_LrOnAqWsB5JrOojQ',\n",
       " 'stars': 4.0,\n",
       " 'useful': 0,\n",
       " 'funny': 0,\n",
       " 'cool': 0,\n",
       " 'text': 'Like walking back in time, every Saturday morning my sister and I was in a bowling league and after we were done, we\\'d spend a few quarters playing the pin ball machines until our mother came to pick us up.\\n\\nMy sister was daring and play the machines hard, she was afraid of that \"tilt\" showing up and freezing the game.  I, on the other hand was a bit more gentler and wanted to make sure I got my quarter\\'s worth.\\n\\nThis place has rows and rows of machines, some are really old and some are more of a mid 80\\'s theme.  There is even a Ms pac man!  It was fun to spend an afternoon playing the machines and remembering all the fun of my early teen years.',\n",
       " 'date': '2011-11-30 02:11:15'}"
      ]
     },
     "execution_count": 50,
     "metadata": {},
     "output_type": "execute_result"
    }
   ],
   "source": [
    "# show one example\n",
    "data[0]"
   ]
  },
  {
   "cell_type": "code",
   "execution_count": 4,
   "metadata": {},
   "outputs": [],
   "source": [
    "# tol num of reviews\n",
    "num = len(data)"
   ]
  },
  {
   "cell_type": "code",
   "execution_count": 5,
   "metadata": {},
   "outputs": [
    {
     "data": {
      "text/plain": [
       "1405392"
      ]
     },
     "execution_count": 5,
     "metadata": {},
     "output_type": "execute_result"
    }
   ],
   "source": [
    "num"
   ]
  },
  {
   "cell_type": "code",
   "execution_count": 6,
   "metadata": {},
   "outputs": [],
   "source": [
    "id = set()\n",
    "for i in data:\n",
    "    id.add(i['business_id'])"
   ]
  },
  {
   "cell_type": "code",
   "execution_count": 7,
   "metadata": {},
   "outputs": [
    {
     "data": {
      "text/plain": [
       "7398"
      ]
     },
     "execution_count": 7,
     "metadata": {},
     "output_type": "execute_result"
    }
   ],
   "source": [
    "# tol num of restaurants\n",
    "len(id)"
   ]
  },
  {
   "cell_type": "code",
   "execution_count": 8,
   "metadata": {},
   "outputs": [],
   "source": [
    "# Create a list of common words to remove\n",
    "remove_words=[\"i\", \"me\", \"my\", \"myself\", \"we\", \"our\", \"ours\", \"ourselves\", \"you\", \"your\", \"yours\", \"yourself\", \n",
    "            \"yourselves\", \"he\", \"him\", \"his\", \"himself\", \"she\", \"her\", \"hers\", \"herself\", \"it\", \"its\", \"itself\", \n",
    "            \"they\", \"them\", \"their\", \"theirs\", \"themselves\", \"what\", \"which\", \"who\", \"whom\", \"this\", \"that\", \"these\", \n",
    "            \"those\", \"am\", \"is\", \"are\", \"was\", \"were\", \"be\", \"been\", \"being\", \"have\", \"has\", \"had\", \"having\", \"do\", \n",
    "            \"does\", \"did\", \"doing\", \"a\", \"an\", \"the\", \"and\", \"but\", \"if\", \"or\", \"because\", \"as\", \"until\", \"while\", \n",
    "            \"of\", \"at\", \"by\", \"for\", \"with\", \"about\", \"against\", \"between\", \"into\", \"through\", \"during\", \"before\", \n",
    "            \"after\", \"above\", \"below\", \"to\", \"from\", \"up\", \"down\", \"in\", \"out\", \"on\", \"off\", \"over\", \"under\", \"again\", \n",
    "            \"further\", \"then\", \"once\", \"here\", \"there\", \"when\", \"where\", \"why\", \"how\", \"all\", \"any\", \"both\", \"each\", \n",
    "            \"few\", \"more\", \"most\", \"other\", \"some\", \"such\", \"no\", \"nor\", \"not\", \"only\", \"own\", \"same\", \"so\", \"than\",\n",
    "            \"too\", \"very\", \"s\", \"t\", \"can\", \"will\", \"just\", \"don\", \"should\", \"now\"]"
   ]
  },
  {
   "cell_type": "code",
   "execution_count": 9,
   "metadata": {},
   "outputs": [],
   "source": [
    "# Load the pre-trained NLP model in spacy\n",
    "nlp = spacy.load(\"en_core_web_lg\") "
   ]
  },
  {
   "cell_type": "code",
   "execution_count": 48,
   "metadata": {},
   "outputs": [],
   "source": [
    "# get most frequent words\n",
    "def get_keywords(x, pos = 'NOUN'):\n",
    "    doc=nlp(x) ## Tokenize and extract grammatical components\n",
    "    doc=[i.text for i in doc if i.text not in remove_words and i.pos_== pos] ## Remove common words and retain only nouns\n",
    "    doc=list(map(lambda i: i.lower(),doc)) ## Normalize text to lower case\n",
    "    doc=pd.Series(doc)\n",
    "    doc=doc.value_counts().head(5).index.tolist() ## Get 5 most frequent words\n",
    "    return doc"
   ]
  },
  {
   "cell_type": "code",
   "execution_count": 39,
   "metadata": {},
   "outputs": [],
   "source": [
    "# combine reviews for each restaurant\n",
    "reviews_id = {}\n",
    "buisiness_ids = []\n",
    "for i in data:\n",
    "    if i['business_id'] not in reviews_id:\n",
    "        reviews_id[i['business_id']] = i['text']\n",
    "        buisiness_ids.append(i['business_id'])\n",
    "    else:\n",
    "        reviews_id[i['business_id']] += i['text']"
   ]
  },
  {
   "cell_type": "code",
   "execution_count": 49,
   "metadata": {},
   "outputs": [
    {
     "data": {
      "text/plain": [
       "['machines', 'games', 'pinball', 'place', 'machine']"
      ]
     },
     "execution_count": 49,
     "metadata": {},
     "output_type": "execute_result"
    }
   ],
   "source": [
    "get_keywords(reviews_id[buisiness_ids[0]], pos = 'NOUN')"
   ]
  },
  {
   "cell_type": "code",
   "execution_count": 53,
   "metadata": {},
   "outputs": [],
   "source": [
    "# calculate average star\n",
    "avg_star = {}\n",
    "for i in data:\n",
    "    if i['business_id'] not in avg_star:\n",
    "        avg_star[i['business_id']] = []\n",
    "    avg_star[i['business_id']].append(i['stars'])"
   ]
  },
  {
   "cell_type": "code",
   "execution_count": 61,
   "metadata": {},
   "outputs": [],
   "source": [
    "for i in avg_star:\n",
    "    avg_star[i] = np.mean(avg_star[i])"
   ]
  },
  {
   "cell_type": "code",
   "execution_count": 68,
   "metadata": {},
   "outputs": [],
   "source": [
    "# final results include average star and kewwords (top 5 nouns and top 5 adjs)\n",
    "final_results = {}\n",
    "for i in buisiness_ids:\n",
    "    final_results[i] = {}\n",
    "    final_results[i]['star'] = avg_star[i]\n",
    "    noun = get_keywords(reviews_id[i][:1000000], pos = 'NOUN')\n",
    "    adj  = get_keywords(reviews_id[i][:1000000], pos = 'ADJ')\n",
    "    final_results[i]['keywords'] = noun + adj"
   ]
  },
  {
   "cell_type": "code",
   "execution_count": 95,
   "metadata": {
    "scrolled": true
   },
   "outputs": [],
   "source": [
    "# find out most common keywords in all reviews\n",
    "keywords = []\n",
    "for i in final_results.values():\n",
    "    keywords += i['keywords']"
   ]
  },
  {
   "cell_type": "code",
   "execution_count": 96,
   "metadata": {},
   "outputs": [
    {
     "data": {
      "text/plain": [
       "[('good', 6682),\n",
       " ('great', 5813),\n",
       " ('food', 5779),\n",
       " ('place', 5234),\n",
       " ('service', 3294),\n",
       " ('nice', 2346),\n",
       " ('time', 1997),\n",
       " ('best', 1777),\n",
       " ('friendly', 1638),\n",
       " ('fresh', 1367),\n",
       " ('delicious', 1328),\n",
       " ('little', 1232),\n",
       " ('chicken', 945),\n",
       " ('restaurant', 838),\n",
       " ('bad', 829),\n",
       " ('bar', 822),\n",
       " ('amazing', 792),\n",
       " ('order', 743),\n",
       " ('pizza', 696),\n",
       " ('hot', 597),\n",
       " ('location', 581),\n",
       " ('fast', 539),\n",
       " ('fries', 496),\n",
       " ('sandwich', 492),\n",
       " ('mexican', 482),\n",
       " ('new', 420),\n",
       " ('better', 419),\n",
       " ('drinks', 394),\n",
       " ('breakfast', 376),\n",
       " ('rice', 364)]"
      ]
     },
     "execution_count": 96,
     "metadata": {},
     "output_type": "execute_result"
    }
   ],
   "source": [
    "collections.Counter(keywords).most_common(30)"
   ]
  },
  {
   "cell_type": "code",
   "execution_count": null,
   "metadata": {},
   "outputs": [],
   "source": [
    "# recommended keywords after filtering\n",
    "# ['good', 'great','service', 'pizza', 'nice', 'friendly', 'chicken', 'amazing', 'fries', 'sandwich', 'mexican', 'breakfast', 'new']"
   ]
  },
  {
   "cell_type": "code",
   "execution_count": 75,
   "metadata": {},
   "outputs": [],
   "source": [
    "# save results\n",
    "with open('results.json', 'w') as json_file:\n",
    "    json.dump(final_results, json_file)"
   ]
  },
  {
   "cell_type": "code",
   "execution_count": null,
   "metadata": {},
   "outputs": [],
   "source": []
  }
 ],
 "metadata": {
  "kernelspec": {
   "display_name": "Python 3",
   "language": "python",
   "name": "python3"
  },
  "language_info": {
   "codemirror_mode": {
    "name": "ipython",
    "version": 3
   },
   "file_extension": ".py",
   "mimetype": "text/x-python",
   "name": "python",
   "nbconvert_exporter": "python",
   "pygments_lexer": "ipython3",
   "version": "3.7.4"
  }
 },
 "nbformat": 4,
 "nbformat_minor": 2
}
